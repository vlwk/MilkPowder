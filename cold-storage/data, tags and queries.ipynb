{
 "cells": [
  {
   "cell_type": "markdown",
   "metadata": {},
   "source": [
    "# DATA, TAGS & QUERIES\n",
    "Everything from the folder currently, with unfinished code for queries (near the end).\n",
    "\n",
    "Tags in `coldstorage4.csv` have yet to be modified as well.\n",
    "\n",
    "Always run *Imports*, *Constants & Variable Initialisation* and *Helper Functions* before running anything else.\n",
    "\n",
    "Please write code we can both understand!! we can do dis\n",
    "_____"
   ]
  },
  {
   "cell_type": "markdown",
   "metadata": {},
   "source": [
    "The current account measures all inflows (credit items) and outflows (debit items). The total revenue earned by an economy from exports of goods in a year is recorded as a credit item known as revenue from the exports of goods (X). The total expenditure on\n",
    "## Imports\n",
    "in a year is recorded as a debit item known as import expenditure on goods (M). The difference between these two items (X-M) is called the balance of merchandise trade. This is also often nown as the visibles balance. If this number is positive, we say that the visibles balance is in surplus; if it is negative, we say that it is in deficit. In the same way, revenue from the export of services is recorded as a credit item while the expenditure on imported services is recorded as a debit item called balance of services trade. The terms surplus and deficit are similar applied to this balance if it results in a positive number and negative number respectively. Note that the payment of royalties for the use of intellectual property rights is recorded in the balance of services. Together the net value of revenue from the exports of both goods and services (i.e. revenue from exports of goods and services minus the expenditure on imports of goods and services) is called the balance of trade or trade balance for short. Again, the terms surplus and deficit applies when the trade balance is positive and negative respectively."
   ]
  },
  {
   "cell_type": "code",
   "execution_count": null,
   "metadata": {},
   "outputs": [],
   "source": [
    "from bs4 import BeautifulSoup\n",
    "from urllib.request import urlopen\n",
    "import csv\n",
    "import os\n",
    "import random"
   ]
  },
  {
   "cell_type": "markdown",
   "metadata": {},
   "source": [
    "## Constants & Variable Initialisation"
   ]
  },
  {
   "cell_type": "code",
   "execution_count": null,
   "metadata": {},
   "outputs": [],
   "source": [
    "BASE_URL = \"https://coldstorage.com.sg/\""
   ]
  },
  {
   "cell_type": "markdown",
   "metadata": {},
   "source": [
    "## Helper Functions"
   ]
  },
  {
   "cell_type": "code",
   "execution_count": null,
   "metadata": {},
   "outputs": [],
   "source": [
    "def read(url):\n",
    "    # Outputs the formatted html of a webpage parsed with lxml-parser\n",
    "    html = urlopen(url)\n",
    "    content = html.read()\n",
    "    return BeautifulSoup(content, 'lxml')"
   ]
  },
  {
   "cell_type": "markdown",
   "metadata": {},
   "source": [
    "# Data Scraping\n",
    "from https://coldstorage.com.sg/"
   ]
  },
  {
   "cell_type": "markdown",
   "metadata": {},
   "source": [
    "### Obtaining list of URLs to scrape\n",
    "\n",
    "This data is written onto `children.csv`. **If the folder already contains this file, you don't need to run this code.**\n",
    "\n",
    "For example, if one of the websites is https://coldstorage.com.sg/fruits-vegetables/fresh-fruits/apples-pears, the corresponding entry in the csv is `fruits-vegetables/fresh-fruits/apples-pears`.\n",
    "\n",
    "Note: Only items with **no deeper subcategories** are considered. For example, https://coldstorage.com.sg/fruits-vegetables is not an entry in the file."
   ]
  },
  {
   "cell_type": "code",
   "execution_count": null,
   "metadata": {},
   "outputs": [],
   "source": [
    "visited = []\n",
    "children = []\n",
    "categories = {}\n",
    "\n",
    "def dfs(node):\n",
    "    url = BASE_URL + node\n",
    "    if node in visited:\n",
    "        return\n",
    "    visited.append(node)\n",
    "    content = read(url)\n",
    "    print(\"processing: \" + node)\n",
    "    sub_categories = content.find_all('a', {\"class\": \"subcat_catalog\"})\n",
    "    if len(sub_categories) == 0:\n",
    "        children.append(node)\n",
    "        print(\"appended: \" + node)\n",
    "        return\n",
    "    for x in sub_categories:\n",
    "        nd = x['href'][1:]\n",
    "        dfs(nd)\n",
    "\n",
    "file = open(\"children.csv\", \"w\")\n",
    "\n",
    "content = read(BASE_URL)\n",
    "tmp = content.find_all(\"li\", {\"class\": \"col-sm-6 col-md-3 menu-promo\"})\n",
    "for i in tmp[:2]:\n",
    "    j = i.find_all('a')\n",
    "    for k in j:\n",
    "        categories[k['href'][1:]] = k.string.strip()\n",
    "\n",
    "for x in categories:\n",
    "    dfs(x)\n",
    "\n",
    "for x in children:\n",
    "    file.write(x + \"\\n\")\n",
    "\n",
    "file.close()"
   ]
  },
  {
   "cell_type": "markdown",
   "metadata": {},
   "source": [
    "### The actual scraping\n",
    "\n",
    "Using the URLs in `children.csv`, data is extracted from the webpage and written onto `coldstorage4.csv` (remember to change the version number if you re-run the code). This code includes the creation of tags for each item."
   ]
  },
  {
   "cell_type": "code",
   "execution_count": null,
   "metadata": {},
   "outputs": [],
   "source": [
    "file = open(\"coldstorage4.csv\", \"w\")\n",
    "file.write(\"name,url,tree,brand,size,price,promotion,tags,\\n\")\n",
    "filez = csv.writer(file)\n",
    "\n",
    "with open(\"children.csv\", \"r\") as f:\n",
    "    cutez = csv.reader(f)\n",
    "    for j in cutez:\n",
    "        ct = read(BASE_URL + j[0])\n",
    "        pages = ct.find_all('li', {\"class\": \"page\"})\n",
    "        if len(pages) > 0:\n",
    "            for i in pages:\n",
    "                ctt = read(BASE_URL + i.find('a')['href'][1:])\n",
    "                pdt = ctt.find_all('li', {\"class\": \"col-xs-6 col-sm-4 col-md-3 col-lg-2 open-product-detail algolia-click\"})\n",
    "                for x in pdt:\n",
    "                    a = x.find('a', {\"class\": \"search product-quick-view\"})\n",
    "                    b = x.find('a', {\"class\": \"product-link\"})\n",
    "                    c = x.find_all('div', {\"class\": \"content_price\"})[0]\n",
    "                    d = c.find_all('div')\n",
    "                    e = x.find_all('div', {\"class\":\"promo-wrapper\"})[0]\n",
    "                    f = e.find_all('span')\n",
    "                    row = []\n",
    "                    row.append(b.text)\n",
    "                    row.append(BASE_URL + b['href'][9:])\n",
    "                    row.append(j[0])\n",
    "                    row.append(a['data-product-brand'])\n",
    "                    row.append(a['data-product-size'][6:])\n",
    "                    if len(d) > 0:\n",
    "                        row.append(d[0].text)\n",
    "                    else:\n",
    "                        row.append(\"\")\n",
    "                    if len(f) > 0:\n",
    "                        row.append(f[0].text)\n",
    "                    else:\n",
    "                        row.append(\"\")\n",
    "                    arr = []\n",
    "                    aa = b.text.rstrip().split(\" \")\n",
    "                    bb = j[0].rstrip().split(\"/\")\n",
    "                    for cc in bb:\n",
    "                        dd = cc.split('-')\n",
    "                        for i in dd:\n",
    "                            if i not in arr:\n",
    "                                arr.append(i)\n",
    "                    for i in aa:\n",
    "                        if i not in arr:\n",
    "                            arr.append(i)\n",
    "                    foo = \"\"\n",
    "                    for i in arr:\n",
    "                        foo += i\n",
    "                        foo += \",\"\n",
    "                    foo = foo[:len(foo)-1]\n",
    "                    print(foo)\n",
    "                    row.append(foo)\n",
    "                    print(row)\n",
    "                    filez.writerow(row)\n",
    "        else:\n",
    "            pdt = ct.find_all('li', {\"class\": \"col-xs-6 col-sm-4 col-md-3 col-lg-2 open-product-detail algolia-click\"})\n",
    "            for x in pdt:\n",
    "                a = x.find('a', {\"class\": \"search product-quick-view\"})\n",
    "                b = x.find('a', {\"class\": \"product-link\"})\n",
    "                c = x.find_all('div', {\"class\": \"content_price\"})[0]\n",
    "                d = c.find_all('div')\n",
    "                e = x.find_all('div', {\"class\":\"promo-wrapper\"})[0]\n",
    "                f = e.find_all('span')\n",
    "                row = []\n",
    "                row.append(b.text)\n",
    "                row.append(BASE_URL + b['href'][9:])\n",
    "                row.append(j[0])\n",
    "                row.append(a['data-product-brand'])\n",
    "                row.append(a['data-product-size'][6:])\n",
    "                if len(d) > 0:\n",
    "                    row.append(d[0].text)\n",
    "                else:\n",
    "                    row.append(\"\")\n",
    "                if len(f) > 0:\n",
    "                    row.append(f[0].text)\n",
    "                else:\n",
    "                    row.append(\"\")\n",
    "                arr = []\n",
    "                aa = b.text.rstrip().split(\" \")\n",
    "                bb = j[0].rstrip().split(\"/\")\n",
    "                for cc in bb:\n",
    "                    dd = cc.split('-')\n",
    "                    for i in dd:\n",
    "                        if i not in arr:\n",
    "                            arr.append(i)\n",
    "                for i in aa:\n",
    "                    if i not in arr:\n",
    "                        arr.append(i)\n",
    "                foo = \"\"\n",
    "                for i in arr:\n",
    "                    foo += i\n",
    "                    foo += \",\"\n",
    "                foo = foo[:len(foo)-1]\n",
    "                print(foo)\n",
    "                row.append(foo)\n",
    "                print(row)\n",
    "                filez.writerow(row)\n",
    "file.close()"
   ]
  },
  {
   "cell_type": "markdown",
   "metadata": {},
   "source": [
    "# Post-Processing"
   ]
  },
  {
   "cell_type": "markdown",
   "metadata": {},
   "source": [
    "### Creating list of items with tags\n",
    "\n",
    "For use in one of the app's .js files (`roc.js` in this folder). Output is at `plswork.txt`. "
   ]
  },
  {
   "cell_type": "code",
   "execution_count": null,
   "metadata": {},
   "outputs": [],
   "source": [
    "with open(\"coldstorage2.csv\", \"r\") as f:\n",
    "    file = csv.reader(f)\n",
    "    for line in file:\n",
    "        if (cnt == 0):\n",
    "            cnt += 1\n",
    "            continue\n",
    "\n",
    "        itemName = line[0].rstrip()\n",
    "        iuid = cnt + 29\n",
    "        istock = random.randint(0,100)\n",
    "        shelfLocation = \"shelf\" + str(random.randint(1, 4))\n",
    "        shelfRow = random.randint(1, 4)\n",
    "        shelfColumn = random.randint(1, 10)\n",
    "        friendlyLocation = line[2].rstrip()\n",
    "        cnt += 1\n",
    "\n",
    "        arr = []\n",
    "        a = line[0].rstrip().split(\" \")\n",
    "        b = line[2].rstrip().split('/')\n",
    "        for c in b:\n",
    "            d = c.split('-')\n",
    "            for i in d:\n",
    "                if i not in arr:\n",
    "                    arr.append(i)\n",
    "        for i in a:\n",
    "            if i not in arr:\n",
    "                arr.append(i)\n",
    "        tags = \"[\"\n",
    "        for i in arr:\n",
    "            tags += (\"\\\"\" + i + \"\\\"\")\n",
    "            tags += \",\"\n",
    "        tags = tags[:len(tags)-1]\n",
    "\n",
    "        tags += \"]\"\n",
    "\n",
    "        sleep = \"{\"\n",
    "        sleep += (\"\\\"iuid\\\":\" + str(iuid) + \",\")\n",
    "        sleep += (\"\\\"istock\\\":\" + str(istock) + \",\")\n",
    "        sleep += (\"\\\"itemName\\\":\" + \"\\\"\" + itemName + \"\\\"\" + \",\")\n",
    "        sleep += (\"\\\"shelfLocation\\\":\" + \"\\\"\" + shelfLocation + \"\\\"\" + \",\")\n",
    "        sleep += (\"\\\"friendlyLocation\\\":\" + \"\\\"\" + friendlyLocation + \"\\\"\" + \",\")\n",
    "        sleep += (\"\\\"shelfRow\\\":\" + str(shelfRow) + \",\")\n",
    "        sleep += (\"\\\"shelfColumn\\\":\" + str(shelfColumn) + \",\")\n",
    "        sleep += (\"\\\"tags\\\":\" + tags)\n",
    "        sleep += \"},\\n\"\n",
    "        yay += sleep\n",
    "\n",
    "with open(\"plswork.txt\", \"w\") as f:\n",
    "    f.write(yay)"
   ]
  },
  {
   "cell_type": "markdown",
   "metadata": {},
   "source": [
    "### Query Types"
   ]
  },
  {
   "cell_type": "code",
   "execution_count": null,
   "metadata": {},
   "outputs": [],
   "source": [
    "def query(query_id, item_name):\n",
    "    \n",
    "    # query_id is the numerical id of the query type\n",
    "    # item_name is a string containing the name of the item\n",
    "    # The function returns a string containing the query\n",
    "    \n",
    "    if (query_id == 1):\n",
    "        return \"Where can I find \" + item_name + \" ?\"\n",
    "    if (query_id == 2):\n",
    "        return \"Where can I get \" + item_name + \" ?\"\n",
    "    if (query_id == 3):\n",
    "        return \"Can I find \" + item_name + \" ?\"\n",
    "    if (query_id == 4):\n",
    "        return \"Can I get \" + item_name + \" ?\"\n",
    "    if (query_id == 5):\n",
    "        return \"Is there \" + item_name + \" ?\"\n",
    "    if (query_id == 6):\n",
    "        return \"Is \" + item_name + \" in stock?\"\n",
    "    if (query_id == 7):\n",
    "        return \"Is \"+ item_name + \" available?\"\n",
    "    if (query_id == 8):\n",
    "        return \"Where is the \" + item_name + \" ?\"\n",
    "    if (query_id == 9):\n",
    "        return \"Do you know where the \" + item_name + \" is?\"\n",
    "    if (query_id == 10):\n",
    "        return \"Can you check whether there is \" + item_name + \" ?\"\n",
    "    if (query_id == 11):\n",
    "        return \"Check whether there is \" + item_name + \".\"\n",
    "    if (query_id == 12):\n",
    "        return \"I'm looking for \" + item_name + \".\"\n",
    "    if (query_id == 13):\n",
    "        return \"What \" + item_name + \" are there?\"\n",
    "    if (query_id == 14):\n",
    "        return \"Where is the \" + item_name + \" section?\"\n",
    "    \n",
    "\n",
    "'''\n",
    "fyi i found a list of query types that we can use\n",
    "\n",
    "1. Where can I find xxx?\n",
    "2. Where can I get xxx?\n",
    "3. Can I find xxx?\n",
    "4. Can I get xxx?\n",
    "5. Is there xxx here?\n",
    "6. Is xxx in stock?\n",
    "7. Is xxx available? \n",
    "8. Do you know where xxx is?\n",
    "9. Where is the xxx?\n",
    "10. Can you check whether there is xxx?\n",
    "11. Check whether there is xxx.\n",
    "12. I’m looking for xxx\n",
    "13. (broad cat) What xxx (vegetables) are there?\n",
    "14. (broad cat) Where is the xxx section?\n",
    "'''"
   ]
  },
  {
   "cell_type": "markdown",
   "metadata": {},
   "source": [
    "### Creating the actual queries"
   ]
  },
  {
   "cell_type": "code",
   "execution_count": null,
   "metadata": {},
   "outputs": [],
   "source": []
  }
 ],
 "metadata": {
  "kernelspec": {
   "display_name": "Python 3",
   "language": "python",
   "name": "python3"
  },
  "language_info": {
   "codemirror_mode": {
    "name": "ipython",
    "version": 3
   },
   "file_extension": ".py",
   "mimetype": "text/x-python",
   "name": "python",
   "nbconvert_exporter": "python",
   "pygments_lexer": "ipython3",
   "version": "3.7.0"
  }
 },
 "nbformat": 4,
 "nbformat_minor": 2
}
